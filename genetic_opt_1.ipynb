{
 "cells": [
  {
   "cell_type": "code",
   "execution_count": null,
   "id": "e07229c4-a8d6-4c9b-87bc-46007e4ef8aa",
   "metadata": {},
   "outputs": [
    {
     "name": "stderr",
     "output_type": "stream",
     "text": [
      "GA Progress:   0%|▏                         | 1/200 [07:15<24:03:17, 435.16s/it]"
     ]
    },
    {
     "name": "stdout",
     "output_type": "stream",
     "text": [
      "Generation 1: Best fitness = 32.6316\n"
     ]
    },
    {
     "name": "stderr",
     "output_type": "stream",
     "text": [
      "GA Progress:   1%|▎                         | 2/200 [14:49<24:32:42, 446.27s/it]"
     ]
    },
    {
     "name": "stdout",
     "output_type": "stream",
     "text": [
      "Generation 2: Best fitness = 32.6316\n"
     ]
    },
    {
     "name": "stderr",
     "output_type": "stream",
     "text": [
      "GA Progress:   2%|▍                         | 3/200 [21:52<23:50:21, 435.64s/it]"
     ]
    },
    {
     "name": "stdout",
     "output_type": "stream",
     "text": [
      "Generation 3: Best fitness = 32.6316\n"
     ]
    },
    {
     "name": "stderr",
     "output_type": "stream",
     "text": [
      "GA Progress:   2%|▌                         | 4/200 [29:09<23:45:17, 436.31s/it]"
     ]
    },
    {
     "name": "stdout",
     "output_type": "stream",
     "text": [
      "Generation 4: Best fitness = 19.4737\n"
     ]
    },
    {
     "name": "stderr",
     "output_type": "stream",
     "text": [
      "GA Progress:   2%|▋                         | 5/200 [36:34<23:48:09, 439.43s/it]"
     ]
    },
    {
     "name": "stdout",
     "output_type": "stream",
     "text": [
      "Generation 5: Best fitness = 19.4737\n"
     ]
    },
    {
     "name": "stderr",
     "output_type": "stream",
     "text": [
      "GA Progress:   3%|▊                         | 6/200 [43:50<23:36:39, 438.14s/it]"
     ]
    },
    {
     "name": "stdout",
     "output_type": "stream",
     "text": [
      "Generation 6: Best fitness = 23.1579\n"
     ]
    },
    {
     "name": "stderr",
     "output_type": "stream",
     "text": [
      "GA Progress:   4%|▉                         | 7/200 [51:06<23:27:46, 437.65s/it]"
     ]
    },
    {
     "name": "stdout",
     "output_type": "stream",
     "text": [
      "Generation 7: Best fitness = 19.4737\n"
     ]
    },
    {
     "name": "stderr",
     "output_type": "stream",
     "text": [
      "GA Progress:   4%|█                         | 8/200 [58:44<23:40:34, 443.93s/it]"
     ]
    },
    {
     "name": "stdout",
     "output_type": "stream",
     "text": [
      "Generation 8: Best fitness = 13.6842\n"
     ]
    },
    {
     "name": "stderr",
     "output_type": "stream",
     "text": [
      "GA Progress:   4%|█                       | 9/200 [1:06:05<23:30:12, 443.00s/it]"
     ]
    },
    {
     "name": "stdout",
     "output_type": "stream",
     "text": [
      "Generation 9: Best fitness = 13.6842\n"
     ]
    },
    {
     "name": "stderr",
     "output_type": "stream",
     "text": [
      "GA Progress:   5%|█▏                     | 10/200 [1:12:45<22:41:08, 429.83s/it]"
     ]
    },
    {
     "name": "stdout",
     "output_type": "stream",
     "text": [
      "Generation 10: Best fitness = 11.0526\n"
     ]
    },
    {
     "name": "stderr",
     "output_type": "stream",
     "text": [
      "GA Progress:   6%|█▎                     | 11/200 [1:19:16<21:56:16, 417.86s/it]"
     ]
    },
    {
     "name": "stdout",
     "output_type": "stream",
     "text": [
      "Generation 11: Best fitness = 11.0526\n"
     ]
    },
    {
     "name": "stderr",
     "output_type": "stream",
     "text": [
      "GA Progress:   6%|█▍                     | 12/200 [1:25:31<21:08:30, 404.84s/it]"
     ]
    },
    {
     "name": "stdout",
     "output_type": "stream",
     "text": [
      "Generation 12: Best fitness = 13.1579\n"
     ]
    },
    {
     "name": "stderr",
     "output_type": "stream",
     "text": [
      "GA Progress:   6%|█▍                     | 13/200 [1:31:59<20:46:05, 399.82s/it]"
     ]
    },
    {
     "name": "stdout",
     "output_type": "stream",
     "text": [
      "Generation 13: Best fitness = 11.5789\n"
     ]
    },
    {
     "name": "stderr",
     "output_type": "stream",
     "text": [
      "GA Progress:   7%|█▌                     | 14/200 [1:38:38<20:38:54, 399.65s/it]"
     ]
    },
    {
     "name": "stdout",
     "output_type": "stream",
     "text": [
      "Generation 14: Best fitness = 11.5789\n"
     ]
    },
    {
     "name": "stderr",
     "output_type": "stream",
     "text": [
      "GA Progress:   8%|█▋                     | 15/200 [1:45:41<20:53:47, 406.63s/it]"
     ]
    },
    {
     "name": "stdout",
     "output_type": "stream",
     "text": [
      "Generation 15: Best fitness = 11.5789\n"
     ]
    },
    {
     "name": "stderr",
     "output_type": "stream",
     "text": [
      "GA Progress:   8%|█▊                     | 16/200 [1:52:34<20:52:32, 408.44s/it]"
     ]
    },
    {
     "name": "stdout",
     "output_type": "stream",
     "text": [
      "Generation 16: Best fitness = 11.5789\n"
     ]
    },
    {
     "name": "stderr",
     "output_type": "stream",
     "text": [
      "GA Progress:   8%|█▉                     | 17/200 [1:59:24<20:47:01, 408.86s/it]"
     ]
    },
    {
     "name": "stdout",
     "output_type": "stream",
     "text": [
      "Generation 17: Best fitness = 11.0526\n"
     ]
    },
    {
     "name": "stderr",
     "output_type": "stream",
     "text": [
      "GA Progress:   9%|██                     | 18/200 [2:33:03<45:08:04, 892.77s/it]"
     ]
    },
    {
     "name": "stdout",
     "output_type": "stream",
     "text": [
      "Generation 18: Best fitness = 11.0526\n"
     ]
    },
    {
     "name": "stderr",
     "output_type": "stream",
     "text": [
      "GA Progress:  10%|██▏                    | 19/200 [2:40:10<37:51:02, 752.83s/it]"
     ]
    },
    {
     "name": "stdout",
     "output_type": "stream",
     "text": [
      "Generation 19: Best fitness = 11.0526\n"
     ]
    },
    {
     "name": "stderr",
     "output_type": "stream",
     "text": [
      "GA Progress:  10%|██▎                    | 20/200 [2:47:23<32:50:36, 656.87s/it]"
     ]
    },
    {
     "name": "stdout",
     "output_type": "stream",
     "text": [
      "Generation 20: Best fitness = 10.5263\n"
     ]
    },
    {
     "name": "stderr",
     "output_type": "stream",
     "text": [
      "GA Progress:  10%|██▍                    | 21/200 [2:54:16<29:01:21, 583.70s/it]"
     ]
    },
    {
     "name": "stdout",
     "output_type": "stream",
     "text": [
      "Generation 21: Best fitness = 10.5263\n"
     ]
    },
    {
     "name": "stderr",
     "output_type": "stream",
     "text": [
      "GA Progress:  11%|██▌                    | 22/200 [3:00:41<25:55:00, 524.16s/it]"
     ]
    },
    {
     "name": "stdout",
     "output_type": "stream",
     "text": [
      "Generation 22: Best fitness = 10.5263\n"
     ]
    },
    {
     "name": "stderr",
     "output_type": "stream",
     "text": [
      "GA Progress:  12%|██▋                    | 23/200 [3:07:13<23:48:38, 484.28s/it]"
     ]
    },
    {
     "name": "stdout",
     "output_type": "stream",
     "text": [
      "Generation 23: Best fitness = 10.5263\n"
     ]
    },
    {
     "name": "stderr",
     "output_type": "stream",
     "text": [
      "GA Progress:  12%|██▊                    | 24/200 [3:13:36<22:11:42, 453.99s/it]"
     ]
    },
    {
     "name": "stdout",
     "output_type": "stream",
     "text": [
      "Generation 24: Best fitness = 10.0000\n"
     ]
    },
    {
     "name": "stderr",
     "output_type": "stream",
     "text": [
      "GA Progress:  12%|██▉                    | 25/200 [3:20:06<21:08:00, 434.74s/it]"
     ]
    },
    {
     "name": "stdout",
     "output_type": "stream",
     "text": [
      "Generation 25: Best fitness = 10.0000\n"
     ]
    },
    {
     "name": "stderr",
     "output_type": "stream",
     "text": [
      "GA Progress:  13%|██▉                    | 26/200 [3:26:25<20:12:48, 418.21s/it]"
     ]
    },
    {
     "name": "stdout",
     "output_type": "stream",
     "text": [
      "Generation 26: Best fitness = 9.4737\n"
     ]
    },
    {
     "name": "stderr",
     "output_type": "stream",
     "text": [
      "GA Progress:  14%|███                    | 27/200 [3:32:02<18:55:15, 393.73s/it]"
     ]
    },
    {
     "name": "stdout",
     "output_type": "stream",
     "text": [
      "Generation 27: Best fitness = 9.4737\n"
     ]
    },
    {
     "name": "stderr",
     "output_type": "stream",
     "text": [
      "GA Progress:  14%|███▏                   | 28/200 [3:37:40<18:00:28, 376.91s/it]"
     ]
    },
    {
     "name": "stdout",
     "output_type": "stream",
     "text": [
      "Generation 28: Best fitness = 9.4737\n"
     ]
    },
    {
     "name": "stderr",
     "output_type": "stream",
     "text": [
      "GA Progress:  14%|███▎                   | 29/200 [3:43:08<17:12:18, 362.21s/it]"
     ]
    },
    {
     "name": "stdout",
     "output_type": "stream",
     "text": [
      "Generation 29: Best fitness = 9.4737\n"
     ]
    },
    {
     "name": "stderr",
     "output_type": "stream",
     "text": [
      "GA Progress:  15%|███▍                   | 30/200 [3:49:17<17:12:23, 364.38s/it]"
     ]
    },
    {
     "name": "stdout",
     "output_type": "stream",
     "text": [
      "Generation 30: Best fitness = 9.4737\n"
     ]
    },
    {
     "name": "stderr",
     "output_type": "stream",
     "text": [
      "GA Progress:  16%|███▌                   | 31/200 [3:54:53<16:42:03, 355.76s/it]"
     ]
    },
    {
     "name": "stdout",
     "output_type": "stream",
     "text": [
      "Generation 31: Best fitness = 9.4737\n"
     ]
    },
    {
     "name": "stderr",
     "output_type": "stream",
     "text": [
      "GA Progress:  16%|███▋                   | 32/200 [4:06:46<21:36:40, 463.10s/it]"
     ]
    },
    {
     "name": "stdout",
     "output_type": "stream",
     "text": [
      "Generation 32: Best fitness = 9.4737\n"
     ]
    },
    {
     "name": "stderr",
     "output_type": "stream",
     "text": [
      "GA Progress:  16%|███▊                   | 33/200 [4:12:30<19:49:02, 427.20s/it]"
     ]
    },
    {
     "name": "stdout",
     "output_type": "stream",
     "text": [
      "Generation 33: Best fitness = 9.4737\n"
     ]
    },
    {
     "name": "stderr",
     "output_type": "stream",
     "text": [
      "GA Progress:  17%|███▉                   | 34/200 [4:18:24<18:41:44, 405.45s/it]"
     ]
    },
    {
     "name": "stdout",
     "output_type": "stream",
     "text": [
      "Generation 34: Best fitness = 8.4211\n"
     ]
    },
    {
     "name": "stderr",
     "output_type": "stream",
     "text": [
      "GA Progress:  18%|████                   | 35/200 [4:24:07<17:42:53, 386.51s/it]"
     ]
    },
    {
     "name": "stdout",
     "output_type": "stream",
     "text": [
      "Generation 35: Best fitness = 8.4211\n"
     ]
    },
    {
     "name": "stderr",
     "output_type": "stream",
     "text": [
      "GA Progress:  18%|████▏                  | 36/200 [4:30:16<17:22:39, 381.46s/it]"
     ]
    },
    {
     "name": "stdout",
     "output_type": "stream",
     "text": [
      "Generation 36: Best fitness = 8.4211\n"
     ]
    },
    {
     "name": "stderr",
     "output_type": "stream",
     "text": [
      "GA Progress:  18%|████▎                  | 37/200 [4:36:07<16:50:53, 372.10s/it]"
     ]
    },
    {
     "name": "stdout",
     "output_type": "stream",
     "text": [
      "Generation 37: Best fitness = 8.4211\n"
     ]
    },
    {
     "name": "stderr",
     "output_type": "stream",
     "text": [
      "GA Progress:  19%|████▎                  | 38/200 [4:42:01<16:30:33, 366.87s/it]"
     ]
    },
    {
     "name": "stdout",
     "output_type": "stream",
     "text": [
      "Generation 38: Best fitness = 8.4211\n"
     ]
    },
    {
     "name": "stderr",
     "output_type": "stream",
     "text": [
      "GA Progress:  20%|████▍                  | 39/200 [4:47:57<16:15:26, 363.52s/it]"
     ]
    },
    {
     "name": "stdout",
     "output_type": "stream",
     "text": [
      "Generation 39: Best fitness = 9.4737\n"
     ]
    },
    {
     "name": "stderr",
     "output_type": "stream",
     "text": [
      "GA Progress:  20%|████▌                  | 40/200 [4:54:00<16:09:17, 363.48s/it]"
     ]
    },
    {
     "name": "stdout",
     "output_type": "stream",
     "text": [
      "Generation 40: Best fitness = 9.4737\n"
     ]
    }
   ],
   "source": [
    "#!/usr/bin/env python3\n",
    "# -*- coding: utf-8 -*-\n",
    "\"\"\"\n",
    "Created on Wed Apr 23 14:15:53 2025\n",
    "\n",
    "@author: miyamotomanari\n",
    "\"\"\"\n",
    "\n",
    "import numpy as np\n",
    "import matplotlib.pyplot as plt\n",
    "from matplotlib.patches import Polygon\n",
    "from tqdm import tqdm\n",
    "from deap import base, creator, tools, algorithms\n",
    "import random\n",
    "\n",
    "# --- 定数定義 ---\n",
    "um = 1e-6\n",
    "e = 1.60217662e-19\n",
    "Omega = 2.0 * np.pi * 22.37e6\n",
    "m = 40.0 * 1.66e-27\n",
    "pseud_A = e / (4.0 * m * Omega**2)\n",
    "Vrf = 185\n",
    "squaresize = 10\n",
    "squaresize_b = 50\n",
    "a = squaresize / 2\n",
    "b = squaresize_b / 2\n",
    "\n",
    "# ===================================================\n",
    "# 1️⃣ 電極生成\n",
    "# ===================================================\n",
    "def create_rectangle(x1, z1, x2, z2):\n",
    "    return np.array([[z1, x1], [z2, x1], [z2, x2], [z1, x2]])\n",
    "\n",
    "def generate_rf_electrodes(pq_starts, n_add_each, pqb_starts, nb_add_each):\n",
    "    base_rf = [\n",
    "        create_rectangle(100, -5500, 400, -1000),\n",
    "        create_rectangle(1000, -400, 5500, -100),\n",
    "        create_rectangle(100, 1000, 400, 5500),\n",
    "        create_rectangle(1000, 100, 5500, 400),\n",
    "        create_rectangle(-400, -5500, -100, -1000),\n",
    "        create_rectangle(-5500, -400, -1000, -100),\n",
    "        create_rectangle(-400, 1000, -100, 5500),\n",
    "        create_rectangle(-5500, 100, -1000, 400)\n",
    "    ]\n",
    "\n",
    "    added_rf = []\n",
    "    for (p0, q0), n_add in zip(pq_starts, n_add_each):\n",
    "        pq_list = [(p0, q0)]\n",
    "        for _ in range(n_add - 1):\n",
    "            prev_p, prev_q = pq_list[-1]\n",
    "            next_q = prev_q + 2 * a\n",
    "            if next_q + a < 500:\n",
    "                pq_list.append((prev_p, next_q))\n",
    "\n",
    "        for p, q in pq_list:\n",
    "            x1, z1 = p - a, q - a\n",
    "            x2, z2 = p + a, q + a\n",
    "            added_rf.extend([\n",
    "                create_rectangle(x1, z1, x2, z2),\n",
    "                create_rectangle(-x2, z1, -x1, z2),\n",
    "                create_rectangle(x1, -z2, x2, -z1),\n",
    "                create_rectangle(-x2, -z2, -x1, -z1)\n",
    "            ])\n",
    "            if p != q:\n",
    "                added_rf.extend([\n",
    "                    create_rectangle(q - a, p - a, q + a, p + a),\n",
    "                    create_rectangle(-q - a, p - a, -q + a, p + a),\n",
    "                    create_rectangle(q - a, -p - a, q + a, -p + a),\n",
    "                    create_rectangle(-q - a, -p - a, -q + a, -p + a)\n",
    "                ])\n",
    "\n",
    "    added_rf_base = []\n",
    "    for (pb0, qb0), nb_add in zip(pqb_starts, nb_add_each):\n",
    "        pqb_list = [(pb0, qb0)]\n",
    "        for _ in range(nb_add - 1):\n",
    "            prev_pb, _ = pqb_list[-1]\n",
    "            next_pb = prev_pb - 2 * b\n",
    "            if abs(next_pb) + b < 5500:\n",
    "                pqb_list.append((next_pb, qb0))\n",
    "        for pb, qb in pqb_list:\n",
    "            xb1, zb1, xb2, zb2 = pb - b, qb - b, pb + b, qb + b\n",
    "            for dx, dz in [(1,1),(-1,1),(1,-1),(-1,-1)]:\n",
    "                added_rf_base.append(create_rectangle(dx*xb1, dz*zb1, dx*xb2, dz*zb2))\n",
    "            if pb != qb:\n",
    "                for dx, dz in [(1,1),(-1,1),(1,-1),(-1,-1)]:\n",
    "                    added_rf_base.append(create_rectangle(dx*(qb - b), dz*(pb - b), dx*(qb + b), dz*(pb + b)))\n",
    "\n",
    "    return base_rf, added_rf, added_rf_base\n",
    "\n",
    "# ===================================================\n",
    "# 2️⃣ ポテンシャル関数\n",
    "# ===================================================\n",
    "def extract_bounds(poly_list):\n",
    "    return [[min([p[1] for p in poly]), min([p[0] for p in poly]),\n",
    "             max([p[1] for p in poly]), max([p[0] for p in poly])]\n",
    "            for poly in poly_list]\n",
    "\n",
    "def pot(x, y, z, electrode, V):\n",
    "    x1, z1, x2, z2 = electrode\n",
    "    def term(xi, zi):\n",
    "        return np.arctan(((xi - x)*(zi - z)) / (y * np.sqrt(y**2 + (xi - x)**2 + (zi - z)**2)))\n",
    "    return (V / (2 * np.pi)) * (term(x2, z2) - term(x1, z2) - term(x2, z1) + term(x1, z1))\n",
    "\n",
    "def potAll_rf(x, y, z, rf_ele_base, rf_ele_added, rf_ele_added_base):\n",
    "    total = 0\n",
    "    for ele in rf_ele_base:\n",
    "        total += pot(x, y, z, ele, Vrf)\n",
    "    for ele in rf_ele_added:\n",
    "        total += pot(x, y, z, ele, Vrf)\n",
    "    for ele in rf_ele_added_base:\n",
    "        total += pot(x, y, z, ele, Vrf)\n",
    "    return total\n",
    "\n",
    "def pseud_pot(x, y, z, rf_ele_base, rf_ele_added, rf_ele_added_base):\n",
    "    dx = dy = dz = 1e-6\n",
    "    grad2 = (\n",
    "        ((potAll_rf(x+dx, y, z, rf_ele_base, rf_ele_added, rf_ele_added_base) -\n",
    "          potAll_rf(x-dx, y, z, rf_ele_base, rf_ele_added, rf_ele_added_base)) / (2*dx))**2 +\n",
    "        ((potAll_rf(x, y+dy, z, rf_ele_base, rf_ele_added, rf_ele_added_base) -\n",
    "          potAll_rf(x, y-dy, z, rf_ele_base, rf_ele_added, rf_ele_added_base)) / (2*dy))**2 +\n",
    "        ((potAll_rf(x, y, z+dz, rf_ele_base, rf_ele_added, rf_ele_added_base) -\n",
    "          potAll_rf(x, y, z-dz, rf_ele_base, rf_ele_added, rf_ele_added_base)) / (2*dz))**2\n",
    "    )\n",
    "    return pseud_A * grad2\n",
    "\n",
    "# ===================================================\n",
    "# 3️⃣ GA対象電極位置の定義\n",
    "# ===================================================\n",
    "pq_starts = [(95 - 10 * i, 95 - 10 * i) for i in range(8)]\n",
    "pqb_starts = [(975, 125 + 50 * i) for i in range(6)]\n",
    "IND_SIZE = len(pq_starts) + len(pqb_starts)\n",
    "\n",
    "creator.create(\"FitnessMin\", base.Fitness, weights=(-1.0,))\n",
    "creator.create(\"Individual\", list, fitness=creator.FitnessMin)\n",
    "\n",
    "toolbox = base.Toolbox()\n",
    "\n",
    "def generate_monotonic_individual():\n",
    "    small = sorted([random.randint(0, 50) for _ in range(len(pq_starts))], reverse=True)\n",
    "    large = sorted([random.randint(0, 17 - i) for i in range(len(pqb_starts))], reverse=True)\n",
    "    return creator.Individual(small + large)\n",
    "\n",
    "toolbox.register(\"individual\", generate_monotonic_individual)\n",
    "toolbox.register(\"population\", tools.initRepeat, list, toolbox.individual)\n",
    "\n",
    "def evaluate(ind):\n",
    "    n_add_small = ind[:len(pq_starts)]\n",
    "    n_add_large = ind[len(pq_starts):]\n",
    "    base_rf, added_rf, added_rf_base = generate_rf_electrodes(pq_starts, n_add_small, pqb_starts, n_add_large)\n",
    "    rf_ele_base = np.array(extract_bounds(base_rf)) * um\n",
    "    rf_ele_added = np.array(extract_bounds(added_rf)) * um\n",
    "    rf_ele_added_base = np.array(extract_bounds(added_rf_base)) * um\n",
    "\n",
    "    xpos = np.linspace(0, 500, 20) * um\n",
    "    ypos = np.linspace(100, 300, 20) * um\n",
    "    trap_heights = []\n",
    "    for x in xpos:\n",
    "        pots = [pseud_pot(x, y, 0, rf_ele_base, rf_ele_added, rf_ele_added_base) for y in ypos]\n",
    "        trap_heights.append(ypos[np.argmin(pots)] / um)\n",
    "    return np.mean([abs(y - 200) for y in trap_heights]),\n",
    "\n",
    "def custom_mate(ind1, ind2):\n",
    "    tools.cxTwoPoint(ind1, ind2)\n",
    "    ind1[:len(pq_starts)] = sorted(ind1[:len(pq_starts)], reverse=True)\n",
    "    ind1[len(pq_starts):] = sorted(ind1[len(pq_starts):], reverse=True)\n",
    "    ind2[:len(pq_starts)] = sorted(ind2[:len(pq_starts)], reverse=True)\n",
    "    ind2[len(pq_starts):] = sorted(ind2[len(pq_starts):], reverse=True)\n",
    "    return ind1, ind2\n",
    "\n",
    "def custom_mutate(ind):\n",
    "    tools.mutUniformInt(ind, low=0, up=50, indpb=0.2)\n",
    "    ind[:len(pq_starts)] = sorted(ind[:len(pq_starts)], reverse=True)\n",
    "    ind[len(pq_starts):] = sorted(ind[len(pq_starts):], reverse=True)\n",
    "    return ind,\n",
    "\n",
    "toolbox.register(\"evaluate\", evaluate)\n",
    "toolbox.register(\"mate\", custom_mate)\n",
    "toolbox.register(\"mutate\", custom_mutate)\n",
    "toolbox.register(\"select\", tools.selTournament, tournsize=3)\n",
    "# 手動で初期個体を与える（例：既知の良い構成）\n",
    "initial_ind = [44, 18, 12, 9, 6, 6, 2, 0, 18, 17, 16, 14, 5, 3]\n",
    "population = [creator.Individual(initial_ind)] + toolbox.population(n=20)  # 初期個体1 + ランダム個体\n",
    "\n",
    "NGEN = 200\n",
    "\n",
    "for gen in tqdm(range(NGEN), desc=\"GA Progress\"):\n",
    "    offspring = algorithms.varAnd(population, toolbox, cxpb=0.5, mutpb=0.3)\n",
    "    fits = list(map(toolbox.evaluate, offspring))\n",
    "    for fit, ind in zip(fits, offspring):\n",
    "        ind.fitness.values = fit\n",
    "    population = toolbox.select(offspring, k=len(population))\n",
    "    best = tools.selBest(population, 1)[0]\n",
    "    print(f\"Generation {gen+1}: Best fitness = {best.fitness.values[0]:.4f}\")\n",
    "\n",
    "best_ind = tools.selBest(population, 1)[0]\n",
    "print(\"Best individual:\", best_ind)\n",
    "print(\"Fitness:\", best_ind.fitness.values[0])\n",
    "#50-40-100-10(y精度細かく)-20-200"
   ]
  },
  {
   "cell_type": "code",
   "execution_count": null,
   "id": "2f226178-594e-4b27-8e16-b60ba629cbb6",
   "metadata": {},
   "outputs": [],
   "source": [
    "# 最適な電極構成を再生成（重複を除去）\n",
    "n_add_small = best_ind[:len(pq_starts)]\n",
    "n_add_large = best_ind[len(pqb_starts):]\n",
    "base_rf_final, added_rf_final, added_rf_base_final = generate_rf_electrodes(pq_starts, n_add_small, pqb_starts, n_add_large)\n",
    "\n",
    "# ===================================================\n",
    "# 4️⃣ 最適化結果の電極描画（全体・ズーム）\n",
    "# ===================================================\n",
    "fig, ax = plt.subplots(figsize=(8, 8))\n",
    "for poly in base_rf_final:\n",
    "    ax.add_patch(Polygon(poly, closed=True, facecolor='salmon', edgecolor='salmon'))\n",
    "for poly in added_rf_final + added_rf_base_final:\n",
    "    ax.add_patch(Polygon(poly, closed=True, facecolor='orangered', edgecolor='orangered'))\n",
    "ax.set_aspect('equal')\n",
    "ax.set_xlim(-6000, 6000)\n",
    "ax.set_ylim(-6000, 6000)\n",
    "plt.title(\"Optimized RF Electrode Layout (Full)\")\n",
    "plt.grid(True)\n",
    "plt.savefig(\"optimized_rf_electrodes_full_GA_test_\"+str(NGEN)+\".png\", dpi=300, transparent=True)\n",
    "plt.show()\n",
    "\n",
    "fig, ax = plt.subplots(figsize=(8, 8))\n",
    "for poly in base_rf_final:\n",
    "    ax.add_patch(Polygon(poly, closed=True, facecolor='salmon', edgecolor='black'))\n",
    "for poly in added_rf_final + added_rf_base_final:\n",
    "    ax.add_patch(Polygon(poly, closed=True, facecolor='orangered', edgecolor='black'))\n",
    "ax.set_aspect('equal')\n",
    "ax.set_xlim(-1000, 1000)\n",
    "ax.set_ylim(-1000, 1000)\n",
    "plt.title(\"Optimized RF Electrode Layout (Zoomed)\")\n",
    "plt.grid(True)\n",
    "plt.savefig(\"optimized_rf_electrodes_zoomed_GA_test_\"+str(NGEN)+\".png\", dpi=300, transparent=True)\n",
    "plt.show()\n"
   ]
  },
  {
   "cell_type": "code",
   "execution_count": null,
   "id": "bb5d5264-4f78-46fd-aee5-ca66f4963fcf",
   "metadata": {},
   "outputs": [],
   "source": [
    "# === 以下コードの続き ===\n",
    "\n",
    "# 最適な電極構成を再生成（重複を除去）\n",
    "n_add_small = best_ind[:len(pq_starts)]\n",
    "n_add_large = best_ind[len(pqb_starts):]\n",
    "base_rf_final, added_rf_final, added_rf_base_final = generate_rf_electrodes(pq_starts, n_add_small, pqb_starts, n_add_large)\n",
    "\n",
    "# ===================================================\n",
    "# 5️⃣ ポテンシャルカラーマップとトラップ位置プロット\n",
    "# ===================================================\n",
    "x_range = np.linspace(0, 2000, 100) * um\n",
    "y_range = np.linspace(100, 300, 200) * um\n",
    "X, Y = np.meshgrid(x_range, y_range)\n",
    "\n",
    "rf_ele_base = np.array(extract_bounds(base_rf_final)) * um\n",
    "rf_ele_added = np.array(extract_bounds(added_rf_final)) * um\n",
    "rf_ele_added_base = np.array(extract_bounds(added_rf_base_final)) * um\n",
    "\n",
    "Z = np.zeros_like(X)\n",
    "trap_ys = []\n",
    "\n",
    "for i in tqdm(range(len(x_range)), desc=\"Calculating potential map\"):\n",
    "    for j in range(len(y_range)):\n",
    "        Z[j, i] = pseud_pot(x_range[i], y_range[j], 0, rf_ele_base, rf_ele_added, rf_ele_added_base)\n",
    "    trap_y = y_range[np.argmin(Z[:, i])]\n",
    "    trap_ys.append(trap_y / um)\n",
    "\n"
   ]
  },
  {
   "cell_type": "code",
   "execution_count": null,
   "id": "40bc024e-a057-4e49-a5d4-5b7360d8534d",
   "metadata": {},
   "outputs": [],
   "source": [
    "plt.figure(figsize=(10, 6))\n",
    "plt.contourf(x_range / um, y_range / um, Z, levels=50, cmap='viridis')\n",
    "plt.colorbar(label=\"Pseudopotential [arb. unit]\")\n",
    "plt.plot(x_range / um, trap_ys, color='red', label='Trap Position')\n",
    "plt.xlabel(\"X [µm]\")\n",
    "plt.ylabel(\"Y [µm]\")\n",
    "plt.title(\"Pseudopotential Map with Trap Position\")\n",
    "plt.legend()\n",
    "plt.tight_layout()\n",
    "plt.savefig(\"pseudopotential_map_with_trap_test_\"+str(NGEN)+\".png\", dpi=300, transparent=True)\n",
    "plt.show()\n",
    "\n",
    "plt.figure(figsize=(8, 4))\n",
    "plt.plot(x_range / um, trap_ys, marker='o', markersize=2)\n",
    "plt.axhline(200, color='gray', linestyle='--', label='Target height 200 µm')\n",
    "plt.xlabel(\"X [µm]\")\n",
    "plt.ylabel(\"Trap Height Y [µm]\")\n",
    "plt.title(\"Ion Trap Height Along X-axis\")\n",
    "plt.grid(True)\n",
    "plt.legend()\n",
    "plt.tight_layout()\n",
    "plt.savefig(\"trap_height_curve_test_\"+str(NGEN)+\".png\", dpi=300, transparent=True)\n",
    "plt.show()\n"
   ]
  },
  {
   "cell_type": "code",
   "execution_count": null,
   "id": "f108c948-c2ec-4095-9a40-7c24e63025e9",
   "metadata": {},
   "outputs": [],
   "source": []
  },
  {
   "cell_type": "code",
   "execution_count": null,
   "id": "b780c11c-441b-4d47-bbe3-f5ac72a51c02",
   "metadata": {},
   "outputs": [],
   "source": []
  }
 ],
 "metadata": {
  "kernelspec": {
   "display_name": "Python 3 (ipykernel)",
   "language": "python",
   "name": "python3"
  },
  "language_info": {
   "codemirror_mode": {
    "name": "ipython",
    "version": 3
   },
   "file_extension": ".py",
   "mimetype": "text/x-python",
   "name": "python",
   "nbconvert_exporter": "python",
   "pygments_lexer": "ipython3",
   "version": "3.12.2"
  }
 },
 "nbformat": 4,
 "nbformat_minor": 5
}
